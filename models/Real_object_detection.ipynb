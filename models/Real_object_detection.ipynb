{
 "cells": [
  {
   "cell_type": "code",
   "execution_count": 2,
   "source": [
    "import six.moves.urllib as urllib\r\n",
    "from collections import defaultdict\r\n",
    "from io import StringIO\r\n",
    "from PIL import Image\r\n",
    "import numpy as np\r\n",
    "import os\r\n",
    "import sys\r\n",
    "import tarfile\r\n",
    "import tensorflow as tf\r\n",
    "import zipfile\r\n",
    "import cv2\r\n",
    "\r\n",
    "\r\n",
    "\"\"\"\r\n",
    "    This is needed since the notebook is stored in the real_object_detection folder on my computer.\r\n",
    "    \r\n",
    "\"\"\"\r\n",
    "sys.path.append(\"C://Users//Aliyu Isah//Desktop//Internships//GRIP TASKS//Real-Object-Detection//models//real_object_detection\")\r\n",
    "\r\n",
    "from utils import label_map_util\r\n",
    "from utils import visualization_utils as vis_util"
   ],
   "outputs": [],
   "metadata": {}
  },
  {
   "cell_type": "code",
   "execution_count": 3,
   "source": [
    "\"\"\"\r\n",
    "    The model to download.\r\n",
    "    and \r\n",
    "    Path to frozen detection graph. This is the actual model that is used for the object detection\r\n",
    "    and\r\n",
    "    List of the strings that is used to add correct label for each box.\r\n",
    "\"\"\"\r\n",
    "MODEL_NAME = 'ssd_mobilenet_v1_coco_2017_11_17'\r\n",
    "MODEL_FILE = MODEL_NAME + '.tar.gz'\r\n",
    "DOWNLOAD_BASE = 'http://download.tensorflow.org/models/object_detection/'\r\n",
    "PATH_TO_CKPT = MODEL_NAME + '/frozen_inference_graph.pb'\r\n",
    " \r\n",
    "PATH_TO_LABELS = os.path.join('data', 'mscoco_label_map.pbtxt')\r\n",
    "\r\n",
    "NUM_CLASSES = 90"
   ],
   "outputs": [],
   "metadata": {}
  },
  {
   "cell_type": "code",
   "execution_count": 4,
   "source": [
    "opener = urllib.request.URLopener()\r\n",
    "opener.retrieve(DOWNLOAD_BASE + MODEL_FILE, MODEL_FILE)\r\n",
    "tar_file = tarfile.open(MODEL_FILE)\r\n",
    "for file in tar_file.getmembers():\r\n",
    "    file_name = os.path.basename(file.name)\r\n",
    "    if 'frozen_inference_graph.pb' in file_name:\r\n",
    "        tar_file.extract(file, os.getcwd())"
   ],
   "outputs": [],
   "metadata": {}
  },
  {
   "cell_type": "code",
   "execution_count": 5,
   "source": [
    "from object_detection.utils import ops as utils_ops\r\n",
    "utils_ops.tf = tf.compat.v1\r\n",
    "tf.gfile = tf.io.gfile\r\n",
    "detection_graph = tf.Graph()\r\n",
    "with detection_graph.as_default():\r\n",
    "    od_graph_def = tf.compat.v1.GraphDef()\r\n",
    "    with tf.io.gfile.GFile(PATH_TO_CKPT, 'rb') as fid:\r\n",
    "        serialized_graph = fid.read()\r\n",
    "        od_graph_def.ParseFromString(serialized_graph)\r\n",
    "        tf.import_graph_def(od_graph_def, name='')\r\n",
    "        "
   ],
   "outputs": [],
   "metadata": {}
  },
  {
   "cell_type": "code",
   "execution_count": 6,
   "source": [
    "label_map = label_map_util.load_labelmap(PATH_TO_LABELS)\r\n",
    "categories = label_map_util.convert_label_map_to_categories(label_map, max_num_classes=NUM_CLASSES, use_display_name=True)\r\n",
    "category_index = label_map_util.create_category_index(categories)"
   ],
   "outputs": [],
   "metadata": {}
  },
  {
   "cell_type": "code",
   "execution_count": 7,
   "source": [
    "\"\"\"\r\n",
    "    Initialize webcam or USB webcam to start streaming images\r\n",
    "\"\"\"\r\n",
    "cap = cv2.VideoCapture(0)"
   ],
   "outputs": [],
   "metadata": {}
  },
  {
   "cell_type": "code",
   "execution_count": 8,
   "source": [
    "\"\"\"\r\n",
    "    Using this to disable tensorflow version 2 warnings and behaviors\r\n",
    "    import tensorflow.compat.v1 as tf\r\n",
    "    tf.disable_v2_behavior()\r\n",
    "\"\"\"\r\n",
    "import tensorflow.compat.v1 as tf\r\n",
    "tf.disable_v2_behavior()\r\n",
    "with detection_graph.as_default():\r\n",
    "    with tf.Session(graph=detection_graph) as sess:\r\n",
    "        ret = True\r\n",
    "        while (ret):\r\n",
    "            ret,image_np = cap.read()\r\n",
    "            \r\n",
    "            image_np_expanded = np.expand_dims(image_np, axis=0)\r\n",
    "            image_tensor = detection_graph.get_tensor_by_name('image_tensor:0')\r\n",
    "            \r\n",
    "            # Each box represents a part of the image where a particular object was detected.\r\n",
    "            boxes = detection_graph.get_tensor_by_name('detection_boxes:0')\r\n",
    "            \r\n",
    "            # Each score represent how level of confidence for each of the objects.\r\n",
    "            # Score is shown on the result image, together with the class label.\r\n",
    "            scores = detection_graph.get_tensor_by_name('detection_scores:0')\r\n",
    "            classes = detection_graph.get_tensor_by_name('detection_classes:0')\r\n",
    "            num_detections = detection_graph.get_tensor_by_name('num_detections:0')\r\n",
    "            \r\n",
    "            # Actual detection.\r\n",
    "            (boxes, scores, classes, num_detections) = sess.run(\r\n",
    "                [boxes, scores, classes, num_detections],\r\n",
    "                feed_dict={image_tensor: image_np_expanded})\r\n",
    "            \r\n",
    "            # Visualization of the results of a detection.\r\n",
    "            vis_util.visualize_boxes_and_labels_on_image_array(\r\n",
    "                image_np,\r\n",
    "                np.squeeze(boxes),\r\n",
    "                np.squeeze(classes).astype(np.int32),\r\n",
    "                np.squeeze(scores),\r\n",
    "                category_index,\r\n",
    "                use_normalized_coordinates=True,\r\n",
    "                line_thickness=8)\r\n",
    "   \r\n",
    "            cv2.imshow('image',cv2.resize(image_np,(1280,960)))\r\n",
    "            if cv2.waitKey(25) & 0xFF == ord('q'):\r\n",
    "                cv2.destroyAllWindows()\r\n",
    "                cap.release()\r\n",
    "                break"
   ],
   "outputs": [
    {
     "output_type": "stream",
     "name": "stdout",
     "text": [
      "WARNING:tensorflow:From C:\\Users\\Aliyu Isah\\AppData\\Roaming\\Python\\Python38\\site-packages\\tensorflow\\python\\compat\\v2_compat.py:96: disable_resource_variables (from tensorflow.python.ops.variable_scope) is deprecated and will be removed in a future version.\n",
      "Instructions for updating:\n",
      "non-resource variables are not supported in the long term\n"
     ]
    }
   ],
   "metadata": {}
  }
 ],
 "metadata": {
  "kernelspec": {
   "name": "python3",
   "display_name": "Python 3.8.5 64-bit ('base': conda)"
  },
  "language_info": {
   "codemirror_mode": {
    "name": "ipython",
    "version": 3
   },
   "file_extension": ".py",
   "mimetype": "text/x-python",
   "name": "python",
   "nbconvert_exporter": "python",
   "pygments_lexer": "ipython3",
   "version": "3.8.5"
  },
  "interpreter": {
   "hash": "b3ba2566441a7c06988d0923437866b63cedc61552a5af99d1f4fb67d367b25f"
  }
 },
 "nbformat": 4,
 "nbformat_minor": 2
}